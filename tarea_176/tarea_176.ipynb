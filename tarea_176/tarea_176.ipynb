{
 "cells": [
  {
   "cell_type": "markdown",
   "id": "a4cf0f56",
   "metadata": {},
   "source": [
    "# Ejercicio propuesto"
   ]
  },
  {
   "cell_type": "markdown",
   "id": "2f3eb438",
   "metadata": {},
   "source": [
    "**Los ejercicios se han realizado uno por celda. Se ejecuta la celda correpondiente y se ve la respuesta del programa en cuestión. En el primer apartado se proponen 2 soluciones. Para ejecutar la segunda solución hay que primero ejecutar la primera ya que las variables se encuentran en ésta celda. Para el resto de apartados no es necesario ejecutar lo anterior.**"
   ]
  },
  {
   "cell_type": "markdown",
   "id": "f47f5189",
   "metadata": {},
   "source": [
    "## Programa que diga el máximo de 3 números dados"
   ]
  },
  {
   "cell_type": "code",
   "execution_count": 1,
   "id": "ced75b9b",
   "metadata": {},
   "outputs": [
    {
     "name": "stdout",
     "output_type": "stream",
     "text": [
      "Dados los números 12, 1, y 12\n",
      "12 es el número más alto\n"
     ]
    }
   ],
   "source": [
    "a,b,c=12,1,12\n",
    "print ( f\"Dados los números {a}, {b}, y {c}\")\n",
    "if a > b:\n",
    "    if a > c:\n",
    "        print (str(a) + \" es el numero mas alto\")\n",
    "    elif a == c:\n",
    "        print (str(a) + \" es el número más alto\")\n",
    "    else:\n",
    "        print (str(c) + \" es el número más alto\")\n",
    "elif a == b:\n",
    "    if a == c:\n",
    "        print (\"los 3 números son iguales\")\n",
    "    elif a > c:\n",
    "        print (f\"{a}  es el número más alto\")\n",
    "    else:\n",
    "        print (f\"{c} es el número mayor\")\n",
    "else:\n",
    "    if b > c:\n",
    "        print (str(b) + \" es el numero mas alto\")\n",
    "    elif b == c:\n",
    "        print (str(b) + \" es el número más alto\")\n",
    "    else:\n",
    "        print (str(c) + \" es el número más alto\")\n",
    "\n",
    "    "
   ]
  },
  {
   "cell_type": "code",
   "execution_count": 2,
   "id": "7eba4be3",
   "metadata": {},
   "outputs": [
    {
     "name": "stdout",
     "output_type": "stream",
     "text": [
      "12 es el numero mas alto\n"
     ]
    }
   ],
   "source": [
    "if a >= b >= c:\n",
    "    print (str(a) + \" es el numero mas alto\")\n",
    "elif a >= b and c>=a:\n",
    "    print (str(c) + \" es el numero mas alto\")\n",
    "elif a < b and b >= c:\n",
    "    print (str(b) + \" es el número más alto\")\n",
    "else:\n",
    "    print (f\"{c} es el número mayor\")\n",
    "    "
   ]
  },
  {
   "cell_type": "markdown",
   "id": "8ccd163d",
   "metadata": {},
   "source": [
    "## Programa que diga la longitud de una frase"
   ]
  },
  {
   "cell_type": "code",
   "execution_count": 11,
   "id": "b6444f95",
   "metadata": {},
   "outputs": [
    {
     "name": "stdout",
     "output_type": "stream",
     "text": [
      "la frase \"hola mundo\" tiene  10 caracteres\n"
     ]
    }
   ],
   "source": [
    "frase=\"hola mundo\"\n",
    "cont=0\n",
    "for i in frase:\n",
    "    cont+=1\n",
    "    \n",
    "print (\"la frase \\\"\" + frase + \"\\\" tiene  \"  + str(cont)+ \" caracteres\")\n",
    "\n",
    "    "
   ]
  },
  {
   "cell_type": "markdown",
   "id": "9e7b05b2",
   "metadata": {},
   "source": [
    "## Programa que determine si un carácter previamente dado es vocal o no"
   ]
  },
  {
   "cell_type": "code",
   "execution_count": 18,
   "id": "3944934c",
   "metadata": {},
   "outputs": [
    {
     "name": "stdout",
     "output_type": "stream",
     "text": [
      "99 no es una vocal\n"
     ]
    }
   ],
   "source": [
    "vocal=\"a\"\n",
    "if vocal in [\"a\", \"e\", \"i\", \"o\", \"u\"]:\n",
    "    print (f\"{vocal} es una vocal\")\n",
    "else:\n",
    "    print (f\"{vocal} no es una vocal\")"
   ]
  },
  {
   "cell_type": "markdown",
   "id": "2a6b62ed",
   "metadata": {},
   "source": [
    "## Programa que sume los valores de una lista"
   ]
  },
  {
   "cell_type": "code",
   "execution_count": 28,
   "id": "6702f9f5",
   "metadata": {},
   "outputs": [
    {
     "name": "stdout",
     "output_type": "stream",
     "text": [
      "20\n"
     ]
    }
   ],
   "source": [
    "lista=[2,8,10]\n",
    "suma=0\n",
    "for i in lista:\n",
    "    suma+=i\n",
    "print(suma)"
   ]
  },
  {
   "cell_type": "markdown",
   "id": "00a7edd5",
   "metadata": {},
   "source": [
    "## Programa que diga si una palabra dada es palíndromo"
   ]
  },
  {
   "cell_type": "code",
   "execution_count": 32,
   "id": "ff6d6711",
   "metadata": {},
   "outputs": [
    {
     "name": "stdout",
     "output_type": "stream",
     "text": [
      "holaaloh es un palindromo\n"
     ]
    }
   ],
   "source": [
    "palabra=\"holaaloh\"\n",
    "if palabra[::-1]==palabra:\n",
    "    print (f\"{palabra} es un palindromo\")\n",
    "else:\n",
    "    print (f\"{palabra} no es un plalindromo\")"
   ]
  },
  {
   "cell_type": "markdown",
   "id": "a15dd1fe",
   "metadata": {},
   "source": [
    "## Programa que compare dos listas y encuentre si hay algún valor coincidente"
   ]
  },
  {
   "cell_type": "code",
   "execution_count": 49,
   "id": "9df8008b",
   "metadata": {},
   "outputs": [
    {
     "name": "stdout",
     "output_type": "stream",
     "text": [
      "['1', '4', 'hola']\n",
      "1, 4, hola\n",
      "hay 3 coincidencias en los elementos: 1, 4, hola\n"
     ]
    }
   ],
   "source": [
    "lista1=[1,4,5,6,\"hola\"]\n",
    "lista2=[1,4,\"hola\",8]\n",
    "cont=0\n",
    "coincidencias=[]\n",
    "for i in range (len(lista1)):\n",
    "    if lista1[i] in lista2:\n",
    "        cont+=1\n",
    "        coincidencias.append(str(lista1[i]))\n",
    "print(coincidencias)\n",
    "elementos = ', '.join(coincidencias)\n",
    "print (elementos)\n",
    "print (f\"hay {cont} coincidencias en los elementos: {elementos}\")          "
   ]
  }
 ],
 "metadata": {
  "kernelspec": {
   "display_name": "Python 3 (ipykernel)",
   "language": "python",
   "name": "python3"
  },
  "language_info": {
   "codemirror_mode": {
    "name": "ipython",
    "version": 3
   },
   "file_extension": ".py",
   "mimetype": "text/x-python",
   "name": "python",
   "nbconvert_exporter": "python",
   "pygments_lexer": "ipython3",
   "version": "3.9.7"
  }
 },
 "nbformat": 4,
 "nbformat_minor": 5
}
